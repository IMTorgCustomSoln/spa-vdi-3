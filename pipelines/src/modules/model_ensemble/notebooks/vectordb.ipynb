{
 "cells": [
  {
   "cell_type": "markdown",
   "id": "f1cdf572",
   "metadata": {},
   "source": [
    "## Vector Database"
   ]
  },
  {
   "cell_type": "code",
   "execution_count": null,
   "id": "f508a361",
   "metadata": {},
   "outputs": [],
   "source": [
    "import lancedb\n",
    "import pandas as pd\n",
    "import pyarrow as pa\n",
    "\n",
    "uri = \"data/sample-lancedb\"\n",
    "table = 'my_table'\n",
    "db = lancedb.connect(uri)"
   ]
  },
  {
   "cell_type": "code",
   "execution_count": null,
   "id": "12488ac2",
   "metadata": {},
   "outputs": [],
   "source": [
    "data = [\n",
    "    {\"vector\": [3.1, 4.1], \"item\": \"foo\", \"price\": 10.0},\n",
    "    {\"vector\": [5.9, 26.5], \"item\": \"bar\", \"price\": 20.0},\n",
    "]\n",
    "\n",
    "tbl = db.create_table(table, data=data)"
   ]
  },
  {
   "cell_type": "code",
   "execution_count": null,
   "id": "93807996",
   "metadata": {},
   "outputs": [
    {
     "name": "stderr",
     "output_type": "stream",
     "text": [
      "Asking to truncate to max_length but no maximum length is provided and the model has no predefined maximum length. Default to no truncation.\n",
      "Passing a tuple of `past_key_values` is deprecated and will be removed in Transformers v4.58.0. You should pass an instance of `EncoderDecoderCache` instead, e.g. `past_key_values=EncoderDecoderCache.from_legacy_cache(past_key_values)`.\n",
      "Asking to truncate to max_length but no maximum length is provided and the model has no predefined maximum length. Default to no truncation.\n"
     ]
    },
    {
     "name": "stdout",
     "output_type": "stream",
     "text": [
      "hello world\n"
     ]
    }
   ],
   "source": [
    "import lancedb\n",
    "from lancedb.pydantic import LanceModel, Vector\n",
    "from lancedb.embeddings import get_registry\n",
    "\n",
    "\n",
    "db = lancedb.connect(uri)\n",
    "func = get_registry().get(\"huggingface\").create(name='facebook/bart-base')\n",
    "\n",
    "class Words(LanceModel):\n",
    "    text: str = func.SourceField()\n",
    "    vector: Vector(func.ndims()) = func.VectorField()\n",
    "\n",
    "table = db.create_table(table, schema=Words, mode=\"overwrite\")\n",
    "table.add([{\"text\": \"hello world\"}, {\"text\": \"goodbye world\"}])\n",
    "\n",
    "query = \"greetings\"\n",
    "actual = table.search(query).limit(1).to_pydantic(Words)[0]\n",
    "print(actual.text)"
   ]
  }
 ],
 "metadata": {
  "language_info": {
   "name": "python"
  }
 },
 "nbformat": 4,
 "nbformat_minor": 5
}
