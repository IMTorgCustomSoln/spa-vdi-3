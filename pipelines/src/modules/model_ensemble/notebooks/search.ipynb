{
 "cells": [
  {
   "cell_type": "code",
   "execution_count": 1,
   "id": "4a265718",
   "metadata": {},
   "outputs": [],
   "source": [
    "%load_ext autoreload\n",
    "%autoreload 2"
   ]
  },
  {
   "cell_type": "code",
   "execution_count": 10,
   "id": "a7cc362b",
   "metadata": {},
   "outputs": [],
   "source": [
    "import sys\n",
    "sys.path.append(\"../\") # go to parent dir\n",
    "from src.doc import (\n",
    "    Doc,\n",
    "    SearchHybrid,\n",
    "    train_test_data\n",
    ")"
   ]
  },
  {
   "cell_type": "code",
   "execution_count": 6,
   "id": "229ad1df",
   "metadata": {},
   "outputs": [],
   "source": [
    "from sentence_transformers import SentenceTransformer\n",
    "import pymupdf\n",
    "\n",
    "from pathlib import Path"
   ]
  },
  {
   "cell_type": "code",
   "execution_count": 7,
   "id": "4bcb2945",
   "metadata": {},
   "outputs": [],
   "source": [
    "model = SentenceTransformer(\"sentence-transformers/all-MiniLM-L6-v2\")\n",
    "\n",
    "filepath = Path('..') / 'documents'\n",
    "pdfpath = filepath / '2025-2026 XS Const OI $5M Policy - Vantage.pdf'\n",
    "pdf = pymupdf.open(pdfpath)\n",
    "\n",
    "doc = Doc(model)\n",
    "for idx, page in enumerate(pdf):\n",
    "    if idx < 2:\n",
    "        text_blocks = page.get_text('blocks')\n",
    "        doc.add_page(idx, text_blocks)"
   ]
  },
  {
   "cell_type": "code",
   "execution_count": 11,
   "id": "26313e38",
   "metadata": {},
   "outputs": [
    {
     "ename": "TypeError",
     "evalue": "string indices must be integers, not 'str'",
     "output_type": "error",
     "traceback": [
      "\u001b[31m---------------------------------------------------------------------------\u001b[39m",
      "\u001b[31mTypeError\u001b[39m                                 Traceback (most recent call last)",
      "\u001b[36mCell\u001b[39m\u001b[36m \u001b[39m\u001b[32mIn[11]\u001b[39m\u001b[32m, line 2\u001b[39m\n\u001b[32m      1\u001b[39m shybrid = SearchHybrid()\n\u001b[32m----> \u001b[39m\u001b[32m2\u001b[39m \u001b[43mshybrid\u001b[49m\u001b[43m.\u001b[49m\u001b[43mtrain_test\u001b[49m\u001b[43m(\u001b[49m\u001b[43mtrain_test_data\u001b[49m\u001b[43m)\u001b[49m\n",
      "\u001b[36mFile \u001b[39m\u001b[32m<string>:4\u001b[39m, in \u001b[36mtrain_test\u001b[39m\u001b[34m(self, train_test_data)\u001b[39m\n",
      "\u001b[36mFile \u001b[39m\u001b[32m/workspaces/contract-data/notebooks/../src/prepare_models.py:31\u001b[39m, in \u001b[36mvalidate_key_terms\u001b[39m\u001b[34m(config, model_topic)\u001b[39m\n\u001b[32m     29\u001b[39m \u001b[38;5;28;01mdef\u001b[39;00m\u001b[38;5;250m \u001b[39m\u001b[34mvalidate_key_terms\u001b[39m(config, model_topic):\n\u001b[32m     30\u001b[39m \u001b[38;5;250m    \u001b[39m\u001b[33;03m\"\"\"...\"\"\"\u001b[39;00m\n\u001b[32m---> \u001b[39m\u001b[32m31\u001b[39m     wdir = \u001b[43mconfig\u001b[49m\u001b[43m[\u001b[49m\u001b[33;43m'\u001b[39;49m\u001b[33;43mTRAINING_DATA_DIR\u001b[39;49m\u001b[33;43m'\u001b[39;49m\u001b[43m]\u001b[49m\u001b[43m[\u001b[49m\u001b[43mmodel_topic\u001b[49m\u001b[43m]\u001b[49m\n\u001b[32m     32\u001b[39m     path_pos_keywords = wdir / \u001b[33m'\u001b[39m\u001b[33mpos_kw.txt\u001b[39m\u001b[33m'\u001b[39m  \n\u001b[32m     33\u001b[39m     path_neg_keywords = wdir / \u001b[33m'\u001b[39m\u001b[33mneg_kw.txt\u001b[39m\u001b[33m'\u001b[39m   \n",
      "\u001b[31mTypeError\u001b[39m: string indices must be integers, not 'str'"
     ]
    }
   ],
   "source": [
    "shybrid = SearchHybrid()\n",
    "shybrid.train_test(train_test_data)"
   ]
  },
  {
   "cell_type": "code",
   "execution_count": null,
   "id": "394cda77",
   "metadata": {},
   "outputs": [],
   "source": []
  }
 ],
 "metadata": {
  "kernelspec": {
   "display_name": "Python 3",
   "language": "python",
   "name": "python3"
  },
  "language_info": {
   "codemirror_mode": {
    "name": "ipython",
    "version": 3
   },
   "file_extension": ".py",
   "mimetype": "text/x-python",
   "name": "python",
   "nbconvert_exporter": "python",
   "pygments_lexer": "ipython3",
   "version": "3.12.8"
  }
 },
 "nbformat": 4,
 "nbformat_minor": 5
}
